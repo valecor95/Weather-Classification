{
  "nbformat": 4,
  "nbformat_minor": 0,
  "metadata": {
    "colab": {
      "name": "MWI-CNN.ipynb",
      "provenance": [],
      "collapsed_sections": [
        "eDEJU1RwoIlv",
        "KaeLRpWIfO1m",
        "R6DMvR8TzJiK",
        "D4HXBx9XHcKU",
        "q1EwWO9m3bGg",
        "jjb5B5K3alzF",
        "jNKO6QDhFOfk",
        "egL15iQztTDH",
        "cJuaudZZEM5J",
        "6PzgjdHbsGnO",
        "ETVydED2DkBc",
        "ker9kSFJCdMz"
      ],
      "toc_visible": true
    },
    "kernelspec": {
      "name": "python3",
      "display_name": "Python 3"
    },
    "accelerator": "GPU"
  },
  "cells": [
    {
      "cell_type": "markdown",
      "metadata": {
        "id": "Z3GYzNWONtju",
        "colab_type": "text"
      },
      "source": [
        "# Machine Learning - Hw 2\n",
        "\n",
        "# Multi-class Weather Classification\n"
      ]
    },
    {
      "cell_type": "markdown",
      "metadata": {
        "id": "eDEJU1RwoIlv",
        "colab_type": "text"
      },
      "source": [
        "##Import libraries"
      ]
    },
    {
      "cell_type": "code",
      "metadata": {
        "id": "BSKuPnIXNoq2",
        "colab_type": "code",
        "colab": {}
      },
      "source": [
        "%tensorflow_version 1.x\n",
        "\n",
        "import numpy as np\n",
        "import tensorflow as tf\n",
        "import keras\n",
        "from keras.preprocessing.image import ImageDataGenerator\n",
        "import warnings\n",
        "\n",
        "from keras.models import Sequential\n",
        "from keras.layers import Dense, Activation, Dropout, Flatten,\\\n",
        "                         Conv2D, MaxPooling2D, AveragePooling2D\n",
        "from keras.layers.normalization import BatchNormalization\n",
        "from keras import regularizers\n",
        "from keras import optimizers\n",
        "\n",
        "from keras import callbacks\n",
        "\n",
        "warnings.filterwarnings('ignore')\n",
        "\n",
        "print(\"Tensorflow version %s\" %tf.__version__)\n",
        "\n",
        "device_name = tf.test.gpu_device_name()\n",
        "if device_name != '/device:GPU:0':\n",
        "  raise SystemError('GPU device not found')\n",
        "print('Found GPU at: {}'.format(device_name))"
      ],
      "execution_count": 0,
      "outputs": []
    },
    {
      "cell_type": "markdown",
      "metadata": {
        "id": "KaeLRpWIfO1m",
        "colab_type": "text"
      },
      "source": [
        "## Load data\n",
        "\n",
        "Get data from  https://drive.google.com/drive/folders/1UzH28Q8xki8_DMYdDgHxi40-CJ800Kaq\n",
        "\n",
        "\n"
      ]
    },
    {
      "cell_type": "code",
      "metadata": {
        "id": "7kECuF5cgxxW",
        "colab_type": "code",
        "colab": {}
      },
      "source": [
        "import os\n",
        "from google.colab import drive\n",
        "drive.mount('/content/drive', force_remount=True)\n",
        "\n",
        "datadir = '/content/drive/My Drive/Hw2-ML/'\n",
        "trainingset = datadir + '/MWI-Dataset-1.1_3200/'\n",
        "testset = datadir + '/MWI-testset/'\n",
        "\n",
        "batch_size = 32\n",
        "train_datagen = ImageDataGenerator(\n",
        "    rescale = 1. / 255,\\\n",
        "    zoom_range=0.1,\\\n",
        "    rotation_range=45,\\\n",
        "    horizontal_flip=True,\\\n",
        "    vertical_flip=False)\n",
        "\n",
        "train_generator = train_datagen.flow_from_directory(\n",
        "    directory=trainingset,\n",
        "    target_size=(200, 200),\n",
        "    color_mode=\"rgb\",\n",
        "    batch_size=batch_size,\n",
        "    class_mode=\"categorical\",\n",
        "    shuffle=True\n",
        ")\n",
        "\n",
        "test_datagen = ImageDataGenerator(\n",
        "    rescale = 1. / 255)\n",
        "\n",
        "test_generator = test_datagen.flow_from_directory(\n",
        "    directory=testset,\n",
        "    target_size=(200, 200),\n",
        "    color_mode=\"rgb\",\n",
        "    batch_size=batch_size,\n",
        "    class_mode=\"categorical\",\n",
        "    shuffle=False\n",
        ")\n",
        "\n",
        "num_samples = train_generator.n\n",
        "num_classes = train_generator.num_classes\n",
        "input_shape = train_generator.image_shape\n",
        "\n",
        "classnames = [k for k,v in train_generator.class_indices.items()]\n",
        "\n",
        "print(\"Image input %s\" %str(input_shape))\n",
        "print(\"Classes: %r\" %classnames)\n",
        "\n",
        "print('Loaded %d training samples from %d classes.' %(num_samples,num_classes))\n",
        "print('Loaded %d test samples from %d classes.' %(test_generator.n,test_generator.num_classes))\n"
      ],
      "execution_count": 0,
      "outputs": []
    },
    {
      "cell_type": "markdown",
      "metadata": {
        "id": "R6DMvR8TzJiK",
        "colab_type": "text"
      },
      "source": [
        "##Show *n* random images\n"
      ]
    },
    {
      "cell_type": "code",
      "metadata": {
        "id": "P0N3cUSazRcJ",
        "colab_type": "code",
        "colab": {}
      },
      "source": [
        "import matplotlib.pyplot as plt\n",
        "\n",
        "n = 3\n",
        "x,y = train_generator.next()\n",
        "# x,y size is train_generator.batch_size\n",
        "\n",
        "for i in range(0,n):\n",
        "    image = x[i]\n",
        "    label = y[i].argmax()  # categorical from one-hot-encoding\n",
        "    print(classnames[label])\n",
        "    plt.imshow(image)\n",
        "    plt.show()\n",
        "    \n",
        "    \n"
      ],
      "execution_count": 0,
      "outputs": []
    },
    {
      "cell_type": "markdown",
      "metadata": {
        "id": "D4HXBx9XHcKU",
        "colab_type": "text"
      },
      "source": [
        "## LeNet"
      ]
    },
    {
      "cell_type": "code",
      "metadata": {
        "id": "JM-Ov6_zHhS6",
        "colab_type": "code",
        "colab": {}
      },
      "source": [
        "def LeNet(input_shape, num_classes, regl2 = 0.0001, lr=0.0001):  \n",
        "    model = Sequential()\n",
        "    \n",
        "    model.add(Conv2D(6, kernel_size=(5, 5), strides=(1, 1), activation='tanh', input_shape=input_shape, padding=\"same\"))\n",
        "    model.add(AveragePooling2D(pool_size=(2, 2), strides=(2, 2), padding='valid'))\n",
        "\n",
        "    model.add(Conv2D(16, kernel_size=(5, 5), strides=(1, 1), activation='tanh', padding='valid'))\n",
        "    model.add(AveragePooling2D(pool_size=(2, 2), strides=(2, 2), padding='valid'))\n",
        "\n",
        "    model.add(Conv2D(120, kernel_size=(5, 5), strides=(1, 1), activation='tanh', padding='valid'))\n",
        "    \n",
        "    model.add(Flatten())\n",
        "\n",
        "    model.add(Dense(84, activation='tanh'))\n",
        "\n",
        "    model.add(Dense(num_classes, activation='softmax'))\n",
        "\n",
        "    adam = optimizers.Adam(lr=lr)\n",
        "    model.compile(loss='categorical_crossentropy', optimizer=adam, metrics=['accuracy'])\n",
        "    \n",
        "    return model\n",
        "\n",
        "# create the model\n",
        "model = LeNet(input_shape,num_classes)\n",
        "model.summary()\n",
        "  "
      ],
      "execution_count": 0,
      "outputs": []
    },
    {
      "cell_type": "markdown",
      "metadata": {
        "id": "q1EwWO9m3bGg",
        "colab_type": "text"
      },
      "source": [
        "##AlexNet"
      ]
    },
    {
      "cell_type": "code",
      "metadata": {
        "id": "1DTCwfVg3jRX",
        "colab_type": "code",
        "colab": {}
      },
      "source": [
        "def AlexNet(input_shape, num_classes, regl2 = 0.0001, lr=0.0001):\n",
        "\n",
        "    model = Sequential()\n",
        "\n",
        "    # C1 Convolutional Layer \n",
        "    model.add(Conv2D(filters=96, input_shape=input_shape, kernel_size=(11,11),strides=(2,4), padding='valid'))\n",
        "    model.add(Activation('relu'))\n",
        "    # Pooling\n",
        "    model.add(MaxPooling2D(pool_size=(2,2), strides=(2,2), padding='valid'))\n",
        "    # Batch Normalisation before passing it to the next layer\n",
        "    model.add(BatchNormalization())\n",
        "\n",
        "    # C2 Convolutional Layer\n",
        "    model.add(Conv2D(filters=256, kernel_size=(11,11), strides=(1,1), padding='valid'))\n",
        "    model.add(Activation('relu'))\n",
        "    # Pooling\n",
        "    model.add(MaxPooling2D(pool_size=(2,2), strides=(2,2), padding='valid'))\n",
        "    # Batch Normalisation\n",
        "    model.add(BatchNormalization())\n",
        "\n",
        "    # C3 Convolutional Layer\n",
        "    model.add(Conv2D(filters=384, kernel_size=(3,3), strides=(1,1), padding='valid'))\n",
        "    model.add(Activation('relu'))\n",
        "    # Batch Normalisation\n",
        "    model.add(BatchNormalization())\n",
        "\n",
        "    # C4 Convolutional Layer\n",
        "    model.add(Conv2D(filters=384, kernel_size=(3,3), strides=(1,1), padding='valid'))\n",
        "    model.add(Activation('relu'))\n",
        "    # Batch Normalisation\n",
        "    model.add(BatchNormalization())\n",
        "\n",
        "    # C5 Convolutional Layer\n",
        "    model.add(Conv2D(filters=256, kernel_size=(3,3), strides=(1,1), padding='valid'))\n",
        "    model.add(Activation('relu'))\n",
        "    # Pooling\n",
        "    model.add(MaxPooling2D(pool_size=(2,2), strides=(2,2), padding='valid'))\n",
        "    # Batch Normalisation\n",
        "    model.add(BatchNormalization())\n",
        "\n",
        "    # Flatten\n",
        "    model.add(Flatten())\n",
        "\n",
        "    flatten_shape = (input_shape[0]*input_shape[1]*input_shape[2],)\n",
        "    \n",
        "    # D1 Dense Layer\n",
        "    model.add(Dense(4096, input_shape=flatten_shape, kernel_regularizer=regularizers.l2(regl2)))\n",
        "    model.add(Activation('relu'))\n",
        "    # Dropout\n",
        "    model.add(Dropout(0.4))\n",
        "    # Batch Normalisation\n",
        "    model.add(BatchNormalization())\n",
        "\n",
        "    # D2 Dense Layer\n",
        "    model.add(Dense(4096, kernel_regularizer=regularizers.l2(regl2)))\n",
        "    model.add(Activation('relu'))\n",
        "    # Dropout\n",
        "    model.add(Dropout(0.4))\n",
        "    # Batch Normalisation\n",
        "    model.add(BatchNormalization())\n",
        "\n",
        "    # D3 Dense Layer\n",
        "    model.add(Dense(1000,kernel_regularizer=regularizers.l2(regl2)))\n",
        "    model.add(Activation('relu'))\n",
        "    # Dropout\n",
        "    model.add(Dropout(0.4))\n",
        "    # Batch Normalisation\n",
        "    model.add(BatchNormalization())\n",
        "\n",
        "    # Output Layer\n",
        "    model.add(Dense(num_classes))\n",
        "    model.add(Activation('softmax'))\n",
        "\n",
        "    # Compile\n",
        "\n",
        "    adam = optimizers.Adam(lr=lr)\n",
        "    model.compile(loss='categorical_crossentropy', optimizer=adam, metrics=['accuracy'])\n",
        "\n",
        "    return model\n",
        " \n",
        "# create the model\n",
        "model = AlexNet(input_shape,num_classes)\n",
        "model.summary()"
      ],
      "execution_count": 0,
      "outputs": []
    },
    {
      "cell_type": "markdown",
      "metadata": {
        "id": "jjb5B5K3alzF",
        "colab_type": "text"
      },
      "source": [
        "## ValerioNet 1"
      ]
    },
    {
      "cell_type": "code",
      "metadata": {
        "id": "i2wm0HyZap2R",
        "colab_type": "code",
        "colab": {}
      },
      "source": [
        " def ValerioNet1(input_shape, num_classes): \n",
        "    model = Sequential()\n",
        "\n",
        "    model.add(Conv2D(filters = 32, kernel_size = (5,5),padding = 'Same', activation ='relu', input_shape=train_generator.image_shape))\n",
        "    model.add(AveragePooling2D(pool_size=(2,2)))\n",
        "\n",
        "    model.add(Conv2D(filters = 64, kernel_size = (3,3),padding = 'Same', activation ='relu'))\n",
        "    model.add(AveragePooling2D(pool_size=(2,2), strides=(2,2)))\n",
        "\n",
        "\n",
        "    model.add(Flatten())\n",
        "    model.add(Dense(100, activation = \"relu\", ))\n",
        "    model.add(Dropout(0.5))\n",
        "    model.add(Dense(train_generator.num_classes, activation = \"softmax\"))\n",
        "\n",
        "    optimizer = 'adam'\n",
        "    model.compile(loss=keras.losses.categorical_crossentropy, optimizer=optimizer, metrics=['accuracy'])\n",
        "\n",
        "    return model\n",
        "\n",
        "# create the model\n",
        "model = ValerioNet1(input_shape,num_classes)\n",
        "model.summary()\n"
      ],
      "execution_count": 0,
      "outputs": []
    },
    {
      "cell_type": "markdown",
      "metadata": {
        "id": "jNKO6QDhFOfk",
        "colab_type": "text"
      },
      "source": [
        "## ValerioNet 2"
      ]
    },
    {
      "cell_type": "code",
      "metadata": {
        "id": "LRZ7kOURFTx9",
        "colab_type": "code",
        "colab": {}
      },
      "source": [
        "def ValerioNet2(input_shape, num_classes):    \n",
        "    model = Sequential()\n",
        "\n",
        "    model.add(Conv2D(6, kernel_size=(5, 5), strides=(1, 1), activation='tanh', input_shape=input_shape, padding=\"same\"))\n",
        "    model.add(AveragePooling2D(pool_size=(2, 2), strides=(2, 2), padding='valid'))\n",
        "\n",
        "    model.add(Conv2D(16, kernel_size=(5, 5), strides=(1, 1), activation='tanh', padding='valid'))\n",
        "    model.add(AveragePooling2D(pool_size=(2, 2), strides=(2, 2), padding='valid'))\n",
        "    \n",
        "    model.add(Conv2D(filters=16, kernel_size=(3,3), strides=(1,1), activation='relu', padding='valid'))\n",
        "    model.add(BatchNormalization())\n",
        "\n",
        "    model.add(Conv2D(filters=128, kernel_size=(3,3), strides=(1,1), activation='relu', padding='valid'))\n",
        "    model.add(BatchNormalization())\n",
        "\n",
        "    model.add(Conv2D(filters=256, kernel_size=(3,3), strides=(1,1), activation='relu', padding='valid'))\n",
        "    model.add(AveragePooling2D(pool_size=(2,2), strides=(2,2), padding='valid'))\n",
        "    model.add(BatchNormalization())\n",
        "        \n",
        "    model.add(Flatten())\n",
        "    model.add(Dense(1000, activation='relu'))\n",
        "    model.add(Dropout(0.5))\n",
        "    model.add(BatchNormalization())\n",
        "    \n",
        "    model.add(Dense(500, activation='relu'))\n",
        "    model.add(BatchNormalization())\n",
        "    model.add(Dense(train_generator.num_classes, activation = \"softmax\"))\n",
        "\n",
        "    optimizer = 'adam'\n",
        "    model.compile(loss=keras.losses.categorical_crossentropy, optimizer=optimizer, metrics=['accuracy'])\n",
        "\n",
        "    return model\n",
        "\n",
        "# create the model\n",
        "model = ValerioNet2(input_shape,num_classes)\n",
        "model.summary()\n",
        "  "
      ],
      "execution_count": 0,
      "outputs": []
    },
    {
      "cell_type": "markdown",
      "metadata": {
        "id": "egL15iQztTDH",
        "colab_type": "text"
      },
      "source": [
        "## Train"
      ]
    },
    {
      "cell_type": "code",
      "metadata": {
        "id": "EKOdDvgf5YlZ",
        "colab_type": "code",
        "colab": {}
      },
      "source": [
        "#stopping = callbacks.EarlyStopping(monitor='val_acc', patience=3)\n",
        "#callbacks=[stopping],\n",
        "\n",
        "steps_per_epoch=train_generator.n//train_generator.batch_size\n",
        "val_steps=test_generator.n//test_generator.batch_size+1\n",
        "\n",
        "try:\n",
        "    history = model.fit_generator(train_generator, epochs=100, verbose=1,\\\n",
        "                    steps_per_epoch=steps_per_epoch,\\\n",
        "                    validation_data=test_generator,\\\n",
        "                    validation_steps=val_steps)\n",
        "except KeyboardInterrupt:\n",
        "    pass\n"
      ],
      "execution_count": 0,
      "outputs": []
    },
    {
      "cell_type": "markdown",
      "metadata": {
        "id": "cJuaudZZEM5J",
        "colab_type": "text"
      },
      "source": [
        "##Save the model"
      ]
    },
    {
      "cell_type": "code",
      "metadata": {
        "id": "-_zU28glA5rh",
        "colab_type": "code",
        "colab": {}
      },
      "source": [
        "import os\n",
        "\n",
        "models_dir = '/content/drive/My Drive/Hw2-ML/models/'\n",
        "\n",
        "def savemodel(model,problem):\n",
        "    filename = os.path.join(models_dir, '%s.h5' %problem)\n",
        "    model.save(filename)\n",
        "    print(\"\\nModel saved successfully on file %s\\n\" %filename)\n",
        "\n",
        "# Save the model\n",
        "savemodel(model,'Weather_classes_100_ValerioNet1_epochs_differentset_3')"
      ],
      "execution_count": 0,
      "outputs": []
    },
    {
      "cell_type": "markdown",
      "metadata": {
        "id": "6PzgjdHbsGnO",
        "colab_type": "text"
      },
      "source": [
        "## Load Pre-Trained Model"
      ]
    },
    {
      "cell_type": "code",
      "metadata": {
        "id": "rpgU_JsnsN5G",
        "colab_type": "code",
        "colab": {}
      },
      "source": [
        "import os\n",
        "from keras.models import load_model\n",
        "\n",
        "models_dir = datadir + '/models/'\n",
        "\n",
        "ValerioNet1 = 'MWI_ValerioNet1'\n",
        "ValerioNet2 = 'MWI_ValerioNet2'\n",
        "Tansfer_ValerioNet1 = 'MWI_ValerioNet1_Transfer'\n",
        "Tansfer_ValerioNet2 = 'MWI_ValerioNet2_Transfer'\n",
        "\n",
        "def loadmodel(problem):\n",
        "    filename = os.path.join(models_dir, '%s.h5' %problem)\n",
        "    try:\n",
        "        model = load_model(filename)\n",
        "        print(\"\\nModel loaded successfully from file %s\\n\" %filename)\n",
        "    except OSError:    \n",
        "        print(\"\\nModel file %s not found!!!\\n\" %filename)\n",
        "        model = None\n",
        "    return model\n",
        "\n",
        "model = loadmodel(ValerioNet2)"
      ],
      "execution_count": 0,
      "outputs": []
    },
    {
      "cell_type": "markdown",
      "metadata": {
        "id": "ETVydED2DkBc",
        "colab_type": "text"
      },
      "source": [
        "## MWI-Dataset Evaluation Scores"
      ]
    },
    {
      "cell_type": "code",
      "metadata": {
        "id": "XtEwNKozDpko",
        "colab_type": "code",
        "colab": {}
      },
      "source": [
        "import sklearn.metrics \n",
        "from sklearn.metrics import classification_report, confusion_matrix\n",
        "\n",
        "test_generator = test_datagen.flow_from_directory(\n",
        "    directory=testset,\n",
        "    target_size=(200, 200),\n",
        "    color_mode=\"rgb\",\n",
        "    batch_size=batch_size,\n",
        "    class_mode=\"categorical\",\n",
        "    shuffle=False,\n",
        ")\n",
        "\n",
        "val_steps=(test_generator.n//test_generator.batch_size+1) \n",
        "\n",
        "\n",
        "print('############## ACCURACY ##############')\n",
        "loss, acc = model.evaluate_generator(test_generator,verbose=1,steps=val_steps)\n",
        "print('MWI-Dataset loss: %f' %loss)\n",
        "print('MWI-Dataset accuracy: %f' %acc)\n",
        "print()\n",
        "\n",
        "preds = model.predict_generator(test_generator,verbose=1,steps=val_steps-1)\n",
        "\n",
        "Ypred = np.argmax(preds, axis=1)\n",
        "Ytest = test_generator.classes  # shuffle=False in test_generator\n",
        "\n",
        "print('############## PRECISION, RECALL, F-SCORE ##############')\n",
        "print(classification_report(Ytest, Ypred, labels=None, target_names=classnames, digits=3))\n",
        "\n",
        "print('############## CONFUSION MATRIX ##############')\n",
        "cm = confusion_matrix(Ytest, Ypred)\n",
        "\n",
        "print(cm)\n",
        "\n",
        "conf = [] # data structure for confusions: list of (i,j,cm[i][j])\n",
        "for i in range(0,cm.shape[0]):\n",
        "  for j in range(0,cm.shape[1]):\n",
        "    if (i!=j and cm[i][j]>0):\n",
        "      conf.append([i,j,cm[i][j]])\n",
        "\n",
        "col=2\n",
        "conf = np.array(conf)\n",
        "conf = conf[np.argsort(-conf[:,col])]  # decreasing order by 3-rd column (i.e., cm[i][j])\n",
        "\n",
        "print('%-16s     %-16s  \\t%s \\t%s ' %('True','Predicted','errors','err %'))\n",
        "print('------------------------------------------------------------------')\n",
        "for k in conf:\n",
        "  print('%-16s ->  %-16s  \\t%d \\t%.2f %% ' %(classnames[k[0]],classnames[k[1]],k[2],k[2]*100.0/test_generator.n))"
      ],
      "execution_count": 0,
      "outputs": []
    },
    {
      "cell_type": "markdown",
      "metadata": {
        "id": "ker9kSFJCdMz",
        "colab_type": "text"
      },
      "source": [
        "## SMART-I Evaluation Scores"
      ]
    },
    {
      "cell_type": "code",
      "metadata": {
        "id": "JbBpVRqFCq-X",
        "colab_type": "code",
        "colab": {}
      },
      "source": [
        "import sklearn.metrics \n",
        "from sklearn.metrics import classification_report, confusion_matrix\n",
        "\n",
        "smarti_test = datadir + '/SMART-I_Dataset'\n",
        "\n",
        "test_generator = test_datagen.flow_from_directory(\n",
        "    directory=smarti_test,\n",
        "    target_size=(200, 200),\n",
        "    color_mode=\"rgb\",\n",
        "    batch_size=batch_size,\n",
        "    class_mode=\"categorical\",\n",
        "    shuffle=False,\n",
        ")\n",
        "\n",
        "val_steps=test_generator.n//test_generator.batch_size+1\n",
        "\n",
        "\n",
        "############## ACCURACY ##############\n",
        "loss, acc = model.evaluate_generator(test_generator,verbose=1,steps=val_steps)\n",
        "print('SMART-I loss: %f' %loss)\n",
        "print('SMART-I accuracy: %f' %acc)\n",
        "\n",
        "preds = model.predict_generator(test_generator,verbose=1,steps=val_steps)\n",
        "\n",
        "Ypred = np.argmax(preds, axis=1)\n",
        "Ytest = test_generator.classes  # shuffle=False in test_generator\n",
        "\n",
        "############## PRECISION, RECALL, F-SCORE ##############\n",
        "print(classification_report(Ytest, Ypred, labels=None, target_names=classnames, digits=3))\n",
        "\n",
        "############## CONFUSION MATRIX ##############\n",
        "\n",
        "cm = confusion_matrix(Ytest, Ypred)\n",
        "\n",
        "print(cm)\n",
        "\n",
        "conf = [] # data structure for confusions: list of (i,j,cm[i][j])\n",
        "for i in range(0,cm.shape[0]):\n",
        "  for j in range(0,cm.shape[1]):\n",
        "    if (i!=j and cm[i][j]>0):\n",
        "      conf.append([i,j,cm[i][j]])\n",
        "\n",
        "col=2\n",
        "conf = np.array(conf)\n",
        "conf = conf[np.argsort(-conf[:,col])]  # decreasing order by 3-rd column (i.e., cm[i][j])\n",
        "\n",
        "print('%-16s     %-16s  \\t%s \\t%s ' %('True','Predicted','errors','err %'))\n",
        "print('------------------------------------------------------------------')\n",
        "for k in conf:\n",
        "  print('%-16s ->  %-16s  \\t%d \\t%.2f %% ' %(classnames[k[0]],classnames[k[1]],k[2],k[2]*100.0/test_generator.n))"
      ],
      "execution_count": 0,
      "outputs": []
    }
  ]
}